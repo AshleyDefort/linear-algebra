{
 "cells": [
  {
   "cell_type": "markdown",
   "metadata": {},
   "source": [
    "## Vectores y Valores Propios de una Matriz\n",
    "#### Ashley Mercado Defort\n",
    "\n",
    "El siguiente algoritmo implementa el proceso para hallar los valores y vectores propios de una matriz. Este algoritmo toma una matriz 𝑉 como entrada y retorna los valores y espacios propios de la matriz. "
   ]
  },
  {
   "cell_type": "code",
   "execution_count": 1,
   "metadata": {},
   "outputs": [
    {
     "name": "stdout",
     "output_type": "stream",
     "text": [
      "Autovalores: [3. 2.]\n",
      "Autovectores:\n",
      " [[0.89442719 0.70710678]\n",
      " [0.4472136  0.70710678]]\n"
     ]
    }
   ],
   "source": [
    "import numpy as np\n",
    "\n",
    "def calcular_autovalores_autovectores(matriz):\n",
    "    # Asegurarse de que la matriz sea un array de NumPy\n",
    "    matriz = np.array(matriz)\n",
    "    \n",
    "    # Calcular autovalores y autovectores\n",
    "    autovalores, autovectores = np.linalg.eig(matriz)\n",
    "    \n",
    "    return autovalores, autovectores\n",
    "\n",
    "\n",
    "matriz = np.array([[4, -2],\n",
    "                    [1,  1]])\n",
    "autovalores, autovectores = calcular_autovalores_autovectores(matriz)\n",
    "print(\"Autovalores:\", autovalores)\n",
    "print(\"Autovectores:\\n\", autovectores)\n"
   ]
  },
  {
   "cell_type": "markdown",
   "metadata": {},
   "source": [
    "## Proceso de Diagonalizacion"
   ]
  },
  {
   "cell_type": "code",
   "execution_count": 2,
   "metadata": {},
   "outputs": [
    {
     "name": "stdout",
     "output_type": "stream",
     "text": [
      "Matriz de autovectores (P):\n",
      " [[0.89442719 0.70710678]\n",
      " [0.4472136  0.70710678]]\n",
      "Matriz diagonal (D):\n",
      " [[3. 0.]\n",
      " [0. 2.]]\n"
     ]
    }
   ],
   "source": [
    "import numpy as np\n",
    "\n",
    "def diagonalizar_matriz(matriz):\n",
    "    matriz = np.array(matriz)\n",
    "    \n",
    "    # Calcular autovalores y autovectores\n",
    "    autovalores, autovectores = np.linalg.eig(matriz)\n",
    "    \n",
    "    if np.linalg.matrix_rank(autovectores) == matriz.shape[0]:\n",
    "        P = autovectores\n",
    "        D = np.diag(autovalores)\n",
    "        P_inv = np.linalg.inv(P)\n",
    "        return P, D\n",
    "    else:\n",
    "        return None\n",
    "\n",
    "matriz = np.array([[4, -2],\n",
    "                    [1,  1]])\n",
    "resultado = diagonalizar_matriz(matriz)\n",
    "if resultado is not None:\n",
    "    P, D = resultado\n",
    "    print(\"Matriz de autovectores (P):\\n\", P)\n",
    "    print(\"Matriz diagonal (D):\\n\", D)\n",
    "else:\n",
    "    print(\"La matriz no es diagonalizable.\")\n"
   ]
  }
 ],
 "metadata": {
  "kernelspec": {
   "display_name": "Python 3",
   "language": "python",
   "name": "python3"
  },
  "language_info": {
   "codemirror_mode": {
    "name": "ipython",
    "version": 3
   },
   "file_extension": ".py",
   "mimetype": "text/x-python",
   "name": "python",
   "nbconvert_exporter": "python",
   "pygments_lexer": "ipython3",
   "version": "3.10.13"
  }
 },
 "nbformat": 4,
 "nbformat_minor": 2
}
