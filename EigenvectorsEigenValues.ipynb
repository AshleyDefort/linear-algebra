{
 "cells": [
  {
   "cell_type": "markdown",
   "metadata": {},
   "source": [
    "## Vectores y Valores Propios de una Matriz\n",
    "#### Ashley Mercado Defort\n",
    "\n",
    "El siguiente algoritmo implementa el proceso para hallar los valores y vectores propios de una matriz. Este algoritmo toma una matriz 𝑉 como entrada y retorna los valores y espacios propios de la matriz. "
   ]
  },
  {
   "cell_type": "code",
   "execution_count": 13,
   "metadata": {},
   "outputs": [
    {
     "name": "stdout",
     "output_type": "stream",
     "text": [
      "Matrix([[-x - 3/2 + sqrt(33)/2, 2], [3, -x + 3/2 + sqrt(33)/2]])\n",
      "5/2 - sqrt(33)/2\n",
      "Matrix([[-x - sqrt(33)/2 - 3/2, 2], [3, -x - sqrt(33)/2 + 3/2]])\n",
      "5/2 + sqrt(33)/2\n",
      "Valores propios (eigenvalues): [5/2 - sqrt(33)/2, 5/2 + sqrt(33)/2]\n",
      "Vectores propios (eigenvectors):\n",
      "Para el valor propio 5/2 - sqrt(33)/2:\n",
      "-x - 3/2 + sqrt(33)/2\n",
      "2\n",
      "3\n",
      "-x + 3/2 + sqrt(33)/2\n",
      "Para el valor propio 5/2 + sqrt(33)/2:\n",
      "-x - sqrt(33)/2 - 3/2\n",
      "2\n",
      "3\n",
      "-x - sqrt(33)/2 + 3/2\n"
     ]
    }
   ],
   "source": [
    "import numpy as np\n",
    "import sympy as sp\n",
    "\n",
    "def getEigenValuesAndVectors(A):\n",
    "    x = sp.Symbol('x')\n",
    "    y = sp.Symbol('y')\n",
    "    z = sp.Symbol('z')\n",
    "    n = A.shape[0]\n",
    "    identidad = sp.eye(n)\n",
    "    matriz = sp.Matrix(A) - x*identidad\n",
    "    det = matriz.det()\n",
    "    eigenvalues = sp.solve(det, x)\n",
    "\n",
    "    eigenvectors = []\n",
    "    for val in eigenvalues:\n",
    "        eigenspace = (matriz - val * identidad)\n",
    "        eigenvectors.append((val, eigenspace))\n",
    "        \n",
    "    \n",
    "    return eigenvalues, eigenvectors\n",
    "\n",
    "\n",
    "A = np.array([[1, 2], [3, 4]])\n",
    "eigenvalues, eigenvectors = getEigenValuesAndVectors(A)\n",
    "print(\"Valores propios (eigenvalues):\", eigenvalues)\n",
    "print(\"Vectores propios (eigenvectors):\")\n",
    "for val, vecs in eigenvectors:\n",
    "    print(f\"Para el valor propio {val}:\")\n",
    "    for vec in vecs:\n",
    "        print(vec)"
   ]
  }
 ],
 "metadata": {
  "kernelspec": {
   "display_name": "Python 3",
   "language": "python",
   "name": "python3"
  },
  "language_info": {
   "codemirror_mode": {
    "name": "ipython",
    "version": 3
   },
   "file_extension": ".py",
   "mimetype": "text/x-python",
   "name": "python",
   "nbconvert_exporter": "python",
   "pygments_lexer": "ipython3",
   "version": "3.11.4"
  }
 },
 "nbformat": 4,
 "nbformat_minor": 2
}
