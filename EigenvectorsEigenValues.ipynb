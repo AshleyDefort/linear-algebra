{
 "cells": [
  {
   "cell_type": "markdown",
   "metadata": {},
   "source": [
    "## Vectores y Valores Propios de una Matriz\n",
    "#### Ashley Mercado Defort\n",
    "\n",
    "El siguiente algoritmo implementa el proceso para hallar los valores y vectores propios de una matriz. Este algoritmo toma una matriz 𝑉 como entrada y retorna los valores y espacios propios de la matriz. "
   ]
  },
  {
   "cell_type": "code",
   "execution_count": 1,
   "metadata": {},
   "outputs": [
    {
     "name": "stdout",
     "output_type": "stream",
     "text": [
      "Autovalores: [3. 2.]\n",
      "Autovectores:\n",
      " [[0.89442719 0.70710678]\n",
      " [0.4472136  0.70710678]]\n"
     ]
    }
   ],
   "source": [
    "import numpy as np\n",
    "\n",
    "def calcular_autovalores_autovectores(matriz):\n",
    "    # Asegurarse de que la matriz sea un array de NumPy\n",
    "    matriz = np.array(matriz)\n",
    "    \n",
    "    # Calcular autovalores y autovectores\n",
    "    autovalores, autovectores = np.linalg.eig(matriz)\n",
    "    \n",
    "    return autovalores, autovectores\n",
    "\n",
    "\n",
    "matriz = np.array([[4, -2],\n",
    "                    [1,  1]])\n",
    "autovalores, autovectores = calcular_autovalores_autovectores(matriz)\n",
    "print(\"Autovalores:\", autovalores)\n",
    "print(\"Autovectores:\\n\", autovectores)\n"
   ]
  },
  {
   "cell_type": "markdown",
   "metadata": {},
   "source": [
    "## Proceso de Diagonalizacion"
   ]
  },
  {
   "cell_type": "code",
   "execution_count": null,
   "metadata": {},
   "outputs": [],
   "source": []
  }
 ],
 "metadata": {
  "kernelspec": {
   "display_name": "Python 3",
   "language": "python",
   "name": "python3"
  },
  "language_info": {
   "codemirror_mode": {
    "name": "ipython",
    "version": 3
   },
   "file_extension": ".py",
   "mimetype": "text/x-python",
   "name": "python",
   "nbconvert_exporter": "python",
   "pygments_lexer": "ipython3",
   "version": "3.10.13"
  }
 },
 "nbformat": 4,
 "nbformat_minor": 2
}
