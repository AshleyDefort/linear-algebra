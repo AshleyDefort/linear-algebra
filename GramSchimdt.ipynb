{
 "cells": [
  {
   "cell_type": "markdown",
   "metadata": {},
   "source": [
    "## Proceso de Ortogonalización de Gram-Schimdt\n",
    "#### Ashley Mercado Defort\n",
    "\n",
    "El siguiente algoritmo implementa el proceso de ortogonalización de Gram-Schmidt utilizando la biblioteca NumPy. Este algoritmo toma una matriz 𝑉 como entrada y produce una matriz ortogonalizada 𝑈 como salida. En resumen, se itera sobre los vectores de 𝑉 y se proyecta cada uno sobre los vectores ortogonales previamente encontrados en 𝑈, asegurando que cada nuevo vector sea ortogonal a los anteriores. Luego, se normalizan los vectores resultantes para asegurar que tengan norma 1. Finalmente, se retorna la matriz 𝑈 ortogonalizada y normalizada como resultado."
   ]
  },
  {
   "cell_type": "code",
   "execution_count": 1,
   "metadata": {},
   "outputs": [
    {
     "name": "stdout",
     "output_type": "stream",
     "text": [
      "[[ 0.57735027  0.57735027  0.          0.57735027]\n",
      " [-0.6172134   0.77151675  0.         -0.15430335]\n",
      " [-0.39036003 -0.19518001 -0.68313005  0.58554004]]\n"
     ]
    }
   ],
   "source": [
    "# Importar bibliotecas necesarias\n",
    "import numpy \n",
    "\n",
    "# Definir función para realizar el proceso de ortogonalización de Gram-Schmidt\n",
    "def GramSchmidt(V):\n",
    "    tam = V.shape # Obtener dimensiones de la matriz V\n",
    "    m = tam[0] # Número de filas\n",
    "    n = tam[1] # Número de columnas\n",
    "    U = numpy.zeros((m,n)) # Crear matriz U de ceros con las mismas dimensiones que V\n",
    "    U[0] = V[0] # Asignar el primer vector de V a U\n",
    "\n",
    "    for k in range(1,m):\n",
    "        U[k] = V[k] # Asignar el vector k de V a U\n",
    "        for j in range(k):\n",
    "            U[k] = U[k] - (numpy.dot(U[j],V[k])/numpy.dot(U[j], U[j]))*(U[j]) # Realizar la ortogonalización de Gram-Schmidt\n",
    "\n",
    "    for k in range(m):\n",
    "        U[k] = U[k]/numpy.linalg.norm(U[k]) # Normalizar los vectores de U\n",
    "    \n",
    "    # Retornar la matriz U\n",
    "    return U\n",
    "\n",
    "# Ejemplo de uso de la función GramSchmidt\n",
    "V= numpy.array([[1,1,0,1],[-1,2,0,0],[1,0,-1,2]]) # Definir matriz V\n",
    "print(GramSchmidt(V)) # Imprimir matriz U"
   ]
  }
 ],
 "metadata": {
  "kernelspec": {
   "display_name": "Python 3",
   "language": "python",
   "name": "python3"
  },
  "language_info": {
   "codemirror_mode": {
    "name": "ipython",
    "version": 3
   },
   "file_extension": ".py",
   "mimetype": "text/x-python",
   "name": "python",
   "nbconvert_exporter": "python",
   "pygments_lexer": "ipython3",
   "version": "3.10.13"
  }
 },
 "nbformat": 4,
 "nbformat_minor": 2
}
